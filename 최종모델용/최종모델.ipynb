{
 "cells": [
  {
   "cell_type": "markdown",
   "metadata": {},
   "source": [
    "####  "
   ]
  },
  {
   "cell_type": "markdown",
   "metadata": {},
   "source": [
    "#  청년몰 최적입지선정 예측모델"
   ]
  },
  {
   "cell_type": "markdown",
   "metadata": {},
   "source": [
    "###  "
   ]
  },
  {
   "cell_type": "code",
   "execution_count": 454,
   "metadata": {},
   "outputs": [],
   "source": [
    "import pandas as pd \n",
    "import folium # 지도 불러오기 위한 라이브러리\n",
    "import matplotlib.pyplot as plt #pie 그래프 라이브러리\n",
    "import plotly.express as px #버블차트 라이브러리\n",
    "import seaborn as sns #matplotlib 확장 라이브러리(더 이쁘기 시각화하기 위해)\n",
    "import matplotlib.font_manager as fm #글자 깨짐을 해결하기 위한 라이브|러리\n",
    "from matplotlib import font_manager, rc #글자 깨짐을 해결하기 위한 라이브러리2\n",
    "from sklearn import linear_model #선형회귀분석을 위해 sklearn(사이킷런)을 사용하기 위한 라이브러리 \n",
    "import numpy as np"
   ]
  },
  {
   "cell_type": "code",
   "execution_count": 455,
   "metadata": {},
   "outputs": [],
   "source": [
    "#plot 한글 깨짐\n",
    "plt.rc('font', family='Malgun Gothic')\n",
    "\n",
    "#막대그래프 한글 깨짐\n",
    "font_name = font_manager.FontProperties(fname=\"c:/Windows/Fonts/malgun.ttf\").get_name()\n",
    "rc('font', family=font_name)"
   ]
  },
  {
   "cell_type": "code",
   "execution_count": 456,
   "metadata": {
    "scrolled": true
   },
   "outputs": [
    {
     "name": "stdout",
     "output_type": "stream",
     "text": [
      "(38, 24)\n"
     ]
    },
    {
     "data": {
      "text/html": [
       "<div>\n",
       "<style scoped>\n",
       "    .dataframe tbody tr th:only-of-type {\n",
       "        vertical-align: middle;\n",
       "    }\n",
       "\n",
       "    .dataframe tbody tr th {\n",
       "        vertical-align: top;\n",
       "    }\n",
       "\n",
       "    .dataframe thead th {\n",
       "        text-align: right;\n",
       "    }\n",
       "</style>\n",
       "<table border=\"1\" class=\"dataframe\">\n",
       "  <thead>\n",
       "    <tr style=\"text-align: right;\">\n",
       "      <th></th>\n",
       "      <th>시장명</th>\n",
       "      <th>청년몰명칭</th>\n",
       "      <th>store_num</th>\n",
       "      <th>휴폐업</th>\n",
       "      <th>sales_per_store</th>\n",
       "      <th>MONEY</th>\n",
       "      <th>salesrate</th>\n",
       "      <th>x</th>\n",
       "      <th>y</th>\n",
       "      <th>Bus_st_num</th>\n",
       "      <th>...</th>\n",
       "      <th>ur_park_num</th>\n",
       "      <th>Cul_hall_n</th>\n",
       "      <th>Mart_num_1</th>\n",
       "      <th>parking_num</th>\n",
       "      <th>parking_car_num</th>\n",
       "      <th>stor_cnt</th>\n",
       "      <th>residnt_cnt_sum</th>\n",
       "      <th>mkt_cnt_sum</th>\n",
       "      <th>stor_cnt_sum</th>\n",
       "      <th>person_mkt_cnt</th>\n",
       "    </tr>\n",
       "  </thead>\n",
       "  <tbody>\n",
       "    <tr>\n",
       "      <th>0</th>\n",
       "      <td>김제전통시장</td>\n",
       "      <td>아리락</td>\n",
       "      <td>10</td>\n",
       "      <td>1</td>\n",
       "      <td>122.700000</td>\n",
       "      <td>1227</td>\n",
       "      <td>90.000000</td>\n",
       "      <td>35.801143</td>\n",
       "      <td>126.884466</td>\n",
       "      <td>20</td>\n",
       "      <td>...</td>\n",
       "      <td>0</td>\n",
       "      <td>1</td>\n",
       "      <td>0</td>\n",
       "      <td>24</td>\n",
       "      <td>1101</td>\n",
       "      <td>65</td>\n",
       "      <td>82623</td>\n",
       "      <td>4</td>\n",
       "      <td>230</td>\n",
       "      <td>359</td>\n",
       "    </tr>\n",
       "    <tr>\n",
       "      <th>1</th>\n",
       "      <td>속초중앙시장</td>\n",
       "      <td>갯배st</td>\n",
       "      <td>20</td>\n",
       "      <td>0</td>\n",
       "      <td>107.300000</td>\n",
       "      <td>2,146</td>\n",
       "      <td>100.000000</td>\n",
       "      <td>38.202650</td>\n",
       "      <td>128.592290</td>\n",
       "      <td>20</td>\n",
       "      <td>...</td>\n",
       "      <td>0</td>\n",
       "      <td>1</td>\n",
       "      <td>1</td>\n",
       "      <td>8</td>\n",
       "      <td>586</td>\n",
       "      <td>400</td>\n",
       "      <td>82636</td>\n",
       "      <td>2</td>\n",
       "      <td>750</td>\n",
       "      <td>110</td>\n",
       "    </tr>\n",
       "    <tr>\n",
       "      <th>2</th>\n",
       "      <td>삼례시장</td>\n",
       "      <td>삼삼오오</td>\n",
       "      <td>10</td>\n",
       "      <td>4</td>\n",
       "      <td>106.800000</td>\n",
       "      <td>1068</td>\n",
       "      <td>60.000000</td>\n",
       "      <td>35.910349</td>\n",
       "      <td>127.073165</td>\n",
       "      <td>31</td>\n",
       "      <td>...</td>\n",
       "      <td>0</td>\n",
       "      <td>1</td>\n",
       "      <td>0</td>\n",
       "      <td>7</td>\n",
       "      <td>748</td>\n",
       "      <td>43</td>\n",
       "      <td>91445</td>\n",
       "      <td>6</td>\n",
       "      <td>293</td>\n",
       "      <td>312</td>\n",
       "    </tr>\n",
       "    <tr>\n",
       "      <th>3</th>\n",
       "      <td>정선사북시장</td>\n",
       "      <td>별애별청년몰</td>\n",
       "      <td>10</td>\n",
       "      <td>0</td>\n",
       "      <td>102.500000</td>\n",
       "      <td>1025</td>\n",
       "      <td>100.000000</td>\n",
       "      <td>37.228133</td>\n",
       "      <td>128.817946</td>\n",
       "      <td>10</td>\n",
       "      <td>...</td>\n",
       "      <td>0</td>\n",
       "      <td>0</td>\n",
       "      <td>0</td>\n",
       "      <td>9</td>\n",
       "      <td>649</td>\n",
       "      <td>60</td>\n",
       "      <td>36937</td>\n",
       "      <td>4</td>\n",
       "      <td>555</td>\n",
       "      <td>67</td>\n",
       "    </tr>\n",
       "    <tr>\n",
       "      <th>4</th>\n",
       "      <td>통복시장</td>\n",
       "      <td>청년숲</td>\n",
       "      <td>19</td>\n",
       "      <td>2</td>\n",
       "      <td>92.526316</td>\n",
       "      <td>1,758</td>\n",
       "      <td>89.473684</td>\n",
       "      <td>36.997224</td>\n",
       "      <td>127.083970</td>\n",
       "      <td>95</td>\n",
       "      <td>...</td>\n",
       "      <td>0</td>\n",
       "      <td>1</td>\n",
       "      <td>0</td>\n",
       "      <td>25</td>\n",
       "      <td>1804</td>\n",
       "      <td>625</td>\n",
       "      <td>534343</td>\n",
       "      <td>5</td>\n",
       "      <td>1283</td>\n",
       "      <td>416</td>\n",
       "    </tr>\n",
       "  </tbody>\n",
       "</table>\n",
       "<p>5 rows × 24 columns</p>\n",
       "</div>"
      ],
      "text/plain": [
       "      시장명   청년몰명칭  store_num  휴폐업  sales_per_store  MONEY   salesrate  \\\n",
       "0  김제전통시장     아리락         10    1       122.700000   1227   90.000000   \n",
       "1  속초중앙시장    갯배st         20    0       107.300000  2,146  100.000000   \n",
       "2    삼례시장    삼삼오오         10    4       106.800000   1068   60.000000   \n",
       "3  정선사북시장  별애별청년몰         10    0       102.500000   1025  100.000000   \n",
       "4    통복시장     청년숲         19    2        92.526316  1,758   89.473684   \n",
       "\n",
       "           x           y  Bus_st_num  ...  ur_park_num  Cul_hall_n  \\\n",
       "0  35.801143  126.884466          20  ...            0           1   \n",
       "1  38.202650  128.592290          20  ...            0           1   \n",
       "2  35.910349  127.073165          31  ...            0           1   \n",
       "3  37.228133  128.817946          10  ...            0           0   \n",
       "4  36.997224  127.083970          95  ...            0           1   \n",
       "\n",
       "   Mart_num_1  parking_num  parking_car_num  stor_cnt  residnt_cnt_sum  \\\n",
       "0           0           24             1101        65            82623   \n",
       "1           1            8              586       400            82636   \n",
       "2           0            7              748        43            91445   \n",
       "3           0            9              649        60            36937   \n",
       "4           0           25             1804       625           534343   \n",
       "\n",
       "   mkt_cnt_sum  stor_cnt_sum  person_mkt_cnt  \n",
       "0            4           230             359  \n",
       "1            2           750             110  \n",
       "2            6           293             312  \n",
       "3            4           555              67  \n",
       "4            5          1283             416  \n",
       "\n",
       "[5 rows x 24 columns]"
      ]
     },
     "execution_count": 456,
     "metadata": {},
     "output_type": "execute_result"
    }
   ],
   "source": [
    "data = pd.read_csv(\"C:/최종모델용/youth_mall.csv\", encoding = 'cp949')\n",
    "print(data.shape)\n",
    "data.head()"
   ]
  },
  {
   "cell_type": "code",
   "execution_count": 457,
   "metadata": {},
   "outputs": [
    {
     "data": {
      "text/plain": [
       "Index(['시장명', '청년몰명칭', 'store_num', '휴폐업', 'sales_per_store', 'MONEY',\n",
       "       'salesrate', 'x', 'y', 'Bus_st_num', 'Ur_rail_nu', 'Bus_te_num',\n",
       "       'spot_num_3', 'univ_num_1', 'ur_park_num', 'Cul_hall_n', 'Mart_num_1',\n",
       "       'parking_num', 'parking_car_num', 'stor_cnt', 'residnt_cnt_sum',\n",
       "       'mkt_cnt_sum', 'stor_cnt_sum', 'person_mkt_cnt'],\n",
       "      dtype='object')"
      ]
     },
     "execution_count": 457,
     "metadata": {},
     "output_type": "execute_result"
    }
   ],
   "source": [
    "data.columns"
   ]
  },
  {
   "cell_type": "code",
   "execution_count": 458,
   "metadata": {},
   "outputs": [
    {
     "data": {
      "text/html": [
       "<div>\n",
       "<style scoped>\n",
       "    .dataframe tbody tr th:only-of-type {\n",
       "        vertical-align: middle;\n",
       "    }\n",
       "\n",
       "    .dataframe tbody tr th {\n",
       "        vertical-align: top;\n",
       "    }\n",
       "\n",
       "    .dataframe thead th {\n",
       "        text-align: right;\n",
       "    }\n",
       "</style>\n",
       "<table border=\"1\" class=\"dataframe\">\n",
       "  <thead>\n",
       "    <tr style=\"text-align: right;\">\n",
       "      <th></th>\n",
       "      <th>store_num</th>\n",
       "      <th>sales_per_store</th>\n",
       "      <th>salesrate</th>\n",
       "      <th>Bus_st_num</th>\n",
       "      <th>Ur_rail_nu</th>\n",
       "      <th>Bus_te_num</th>\n",
       "      <th>spot_num_3</th>\n",
       "      <th>univ_num_1</th>\n",
       "      <th>ur_park_num</th>\n",
       "      <th>Cul_hall_n</th>\n",
       "      <th>Mart_num_1</th>\n",
       "      <th>parking_num</th>\n",
       "      <th>parking_car_num</th>\n",
       "      <th>stor_cnt</th>\n",
       "      <th>residnt_cnt_sum</th>\n",
       "      <th>mkt_cnt_sum</th>\n",
       "      <th>stor_cnt_sum</th>\n",
       "      <th>person_mkt_cnt</th>\n",
       "    </tr>\n",
       "  </thead>\n",
       "  <tbody>\n",
       "    <tr>\n",
       "      <th>0</th>\n",
       "      <td>10</td>\n",
       "      <td>122.700000</td>\n",
       "      <td>90.000000</td>\n",
       "      <td>20</td>\n",
       "      <td>0</td>\n",
       "      <td>2</td>\n",
       "      <td>3</td>\n",
       "      <td>0</td>\n",
       "      <td>0</td>\n",
       "      <td>1</td>\n",
       "      <td>0</td>\n",
       "      <td>24</td>\n",
       "      <td>1101</td>\n",
       "      <td>65</td>\n",
       "      <td>82623</td>\n",
       "      <td>4</td>\n",
       "      <td>230</td>\n",
       "      <td>359</td>\n",
       "    </tr>\n",
       "    <tr>\n",
       "      <th>1</th>\n",
       "      <td>20</td>\n",
       "      <td>107.300000</td>\n",
       "      <td>100.000000</td>\n",
       "      <td>20</td>\n",
       "      <td>0</td>\n",
       "      <td>2</td>\n",
       "      <td>4</td>\n",
       "      <td>0</td>\n",
       "      <td>0</td>\n",
       "      <td>1</td>\n",
       "      <td>1</td>\n",
       "      <td>8</td>\n",
       "      <td>586</td>\n",
       "      <td>400</td>\n",
       "      <td>82636</td>\n",
       "      <td>2</td>\n",
       "      <td>750</td>\n",
       "      <td>110</td>\n",
       "    </tr>\n",
       "    <tr>\n",
       "      <th>2</th>\n",
       "      <td>10</td>\n",
       "      <td>106.800000</td>\n",
       "      <td>60.000000</td>\n",
       "      <td>31</td>\n",
       "      <td>0</td>\n",
       "      <td>0</td>\n",
       "      <td>2</td>\n",
       "      <td>1</td>\n",
       "      <td>0</td>\n",
       "      <td>1</td>\n",
       "      <td>0</td>\n",
       "      <td>7</td>\n",
       "      <td>748</td>\n",
       "      <td>43</td>\n",
       "      <td>91445</td>\n",
       "      <td>6</td>\n",
       "      <td>293</td>\n",
       "      <td>312</td>\n",
       "    </tr>\n",
       "    <tr>\n",
       "      <th>3</th>\n",
       "      <td>10</td>\n",
       "      <td>102.500000</td>\n",
       "      <td>100.000000</td>\n",
       "      <td>10</td>\n",
       "      <td>0</td>\n",
       "      <td>0</td>\n",
       "      <td>1</td>\n",
       "      <td>0</td>\n",
       "      <td>0</td>\n",
       "      <td>0</td>\n",
       "      <td>0</td>\n",
       "      <td>9</td>\n",
       "      <td>649</td>\n",
       "      <td>60</td>\n",
       "      <td>36937</td>\n",
       "      <td>4</td>\n",
       "      <td>555</td>\n",
       "      <td>67</td>\n",
       "    </tr>\n",
       "    <tr>\n",
       "      <th>4</th>\n",
       "      <td>19</td>\n",
       "      <td>92.526316</td>\n",
       "      <td>89.473684</td>\n",
       "      <td>95</td>\n",
       "      <td>1</td>\n",
       "      <td>2</td>\n",
       "      <td>1</td>\n",
       "      <td>0</td>\n",
       "      <td>0</td>\n",
       "      <td>1</td>\n",
       "      <td>0</td>\n",
       "      <td>25</td>\n",
       "      <td>1804</td>\n",
       "      <td>625</td>\n",
       "      <td>534343</td>\n",
       "      <td>5</td>\n",
       "      <td>1283</td>\n",
       "      <td>416</td>\n",
       "    </tr>\n",
       "  </tbody>\n",
       "</table>\n",
       "</div>"
      ],
      "text/plain": [
       "   store_num  sales_per_store   salesrate  Bus_st_num  Ur_rail_nu  Bus_te_num  \\\n",
       "0         10       122.700000   90.000000          20           0           2   \n",
       "1         20       107.300000  100.000000          20           0           2   \n",
       "2         10       106.800000   60.000000          31           0           0   \n",
       "3         10       102.500000  100.000000          10           0           0   \n",
       "4         19        92.526316   89.473684          95           1           2   \n",
       "\n",
       "   spot_num_3  univ_num_1  ur_park_num  Cul_hall_n  Mart_num_1  parking_num  \\\n",
       "0           3           0            0           1           0           24   \n",
       "1           4           0            0           1           1            8   \n",
       "2           2           1            0           1           0            7   \n",
       "3           1           0            0           0           0            9   \n",
       "4           1           0            0           1           0           25   \n",
       "\n",
       "   parking_car_num  stor_cnt  residnt_cnt_sum  mkt_cnt_sum  stor_cnt_sum  \\\n",
       "0             1101        65            82623            4           230   \n",
       "1              586       400            82636            2           750   \n",
       "2              748        43            91445            6           293   \n",
       "3              649        60            36937            4           555   \n",
       "4             1804       625           534343            5          1283   \n",
       "\n",
       "   person_mkt_cnt  \n",
       "0             359  \n",
       "1             110  \n",
       "2             312  \n",
       "3              67  \n",
       "4             416  "
      ]
     },
     "execution_count": 458,
     "metadata": {},
     "output_type": "execute_result"
    }
   ],
   "source": [
    "#필요 열 추출\n",
    "num_data = data[['store_num', 'sales_per_store', 'salesrate', 'Bus_st_num', 'Ur_rail_nu', \n",
    "                 'Bus_te_num', 'spot_num_3', 'univ_num_1','ur_park_num', 'Cul_hall_n', 'Mart_num_1', \n",
    "            'parking_num', 'parking_car_num','stor_cnt', 'residnt_cnt_sum', 'mkt_cnt_sum', 'stor_cnt_sum', 'person_mkt_cnt']]\n",
    "num_data.head()"
   ]
  },
  {
   "cell_type": "code",
   "execution_count": 459,
   "metadata": {},
   "outputs": [
    {
     "data": {
      "text/plain": [
       "Index(['store_num', 'sales_per_store', 'salesrate', 'Bus_st_num', 'Ur_rail_nu',\n",
       "       'Bus_te_num', 'spot_num_3', 'univ_num_1', 'ur_park_num', 'Cul_hall_n',\n",
       "       'Mart_num_1', 'parking_num', 'parking_car_num', 'stor_cnt',\n",
       "       'residnt_cnt_sum', 'mkt_cnt_sum', 'stor_cnt_sum', 'person_mkt_cnt'],\n",
       "      dtype='object')"
      ]
     },
     "execution_count": 459,
     "metadata": {},
     "output_type": "execute_result"
    }
   ],
   "source": [
    "data_col = num_data.columns\n",
    "data_col"
   ]
  },
  {
   "cell_type": "markdown",
   "metadata": {},
   "source": [
    "### 상관계수"
   ]
  },
  {
   "cell_type": "code",
   "execution_count": 460,
   "metadata": {},
   "outputs": [
    {
     "data": {
      "text/html": [
       "<div>\n",
       "<style scoped>\n",
       "    .dataframe tbody tr th:only-of-type {\n",
       "        vertical-align: middle;\n",
       "    }\n",
       "\n",
       "    .dataframe tbody tr th {\n",
       "        vertical-align: top;\n",
       "    }\n",
       "\n",
       "    .dataframe thead th {\n",
       "        text-align: right;\n",
       "    }\n",
       "</style>\n",
       "<table border=\"1\" class=\"dataframe\">\n",
       "  <thead>\n",
       "    <tr style=\"text-align: right;\">\n",
       "      <th></th>\n",
       "      <th>store_num</th>\n",
       "      <th>sales_per_store</th>\n",
       "      <th>salesrate</th>\n",
       "      <th>Bus_st_num</th>\n",
       "      <th>Ur_rail_nu</th>\n",
       "      <th>Bus_te_num</th>\n",
       "      <th>spot_num_3</th>\n",
       "      <th>univ_num_1</th>\n",
       "      <th>ur_park_num</th>\n",
       "      <th>Cul_hall_n</th>\n",
       "      <th>Mart_num_1</th>\n",
       "      <th>parking_num</th>\n",
       "      <th>parking_car_num</th>\n",
       "      <th>stor_cnt</th>\n",
       "      <th>residnt_cnt_sum</th>\n",
       "      <th>mkt_cnt_sum</th>\n",
       "      <th>stor_cnt_sum</th>\n",
       "      <th>person_mkt_cnt</th>\n",
       "    </tr>\n",
       "  </thead>\n",
       "  <tbody>\n",
       "    <tr>\n",
       "      <th>store_num</th>\n",
       "      <td>1.000000</td>\n",
       "      <td>-0.438366</td>\n",
       "      <td>-0.028297</td>\n",
       "      <td>0.047493</td>\n",
       "      <td>0.037231</td>\n",
       "      <td>-0.118202</td>\n",
       "      <td>-0.002767</td>\n",
       "      <td>0.063075</td>\n",
       "      <td>0.265964</td>\n",
       "      <td>0.154915</td>\n",
       "      <td>0.196400</td>\n",
       "      <td>0.049037</td>\n",
       "      <td>0.019373</td>\n",
       "      <td>0.115404</td>\n",
       "      <td>0.111732</td>\n",
       "      <td>0.024442</td>\n",
       "      <td>-0.004140</td>\n",
       "      <td>-0.027648</td>\n",
       "    </tr>\n",
       "    <tr>\n",
       "      <th>sales_per_store</th>\n",
       "      <td>-0.438366</td>\n",
       "      <td>1.000000</td>\n",
       "      <td>0.080194</td>\n",
       "      <td>0.291140</td>\n",
       "      <td>0.195112</td>\n",
       "      <td>0.292421</td>\n",
       "      <td>0.473603</td>\n",
       "      <td>-0.017551</td>\n",
       "      <td>-0.225859</td>\n",
       "      <td>-0.133438</td>\n",
       "      <td>-0.553287</td>\n",
       "      <td>0.307491</td>\n",
       "      <td>0.334959</td>\n",
       "      <td>-0.047747</td>\n",
       "      <td>-0.289580</td>\n",
       "      <td>-0.244384</td>\n",
       "      <td>-0.126068</td>\n",
       "      <td>0.091024</td>\n",
       "    </tr>\n",
       "    <tr>\n",
       "      <th>salesrate</th>\n",
       "      <td>-0.028297</td>\n",
       "      <td>0.080194</td>\n",
       "      <td>1.000000</td>\n",
       "      <td>-0.078239</td>\n",
       "      <td>-0.081718</td>\n",
       "      <td>0.286328</td>\n",
       "      <td>-0.013904</td>\n",
       "      <td>-0.142871</td>\n",
       "      <td>0.142943</td>\n",
       "      <td>-0.019465</td>\n",
       "      <td>0.172373</td>\n",
       "      <td>-0.018664</td>\n",
       "      <td>0.032073</td>\n",
       "      <td>-0.159273</td>\n",
       "      <td>0.203798</td>\n",
       "      <td>-0.142332</td>\n",
       "      <td>-0.121643</td>\n",
       "      <td>0.175873</td>\n",
       "    </tr>\n",
       "    <tr>\n",
       "      <th>Bus_st_num</th>\n",
       "      <td>0.047493</td>\n",
       "      <td>0.291140</td>\n",
       "      <td>-0.078239</td>\n",
       "      <td>1.000000</td>\n",
       "      <td>0.599837</td>\n",
       "      <td>0.030022</td>\n",
       "      <td>0.286621</td>\n",
       "      <td>-0.006807</td>\n",
       "      <td>-0.019497</td>\n",
       "      <td>0.190004</td>\n",
       "      <td>-0.144837</td>\n",
       "      <td>0.623485</td>\n",
       "      <td>0.695407</td>\n",
       "      <td>0.111209</td>\n",
       "      <td>0.208673</td>\n",
       "      <td>0.223558</td>\n",
       "      <td>0.243738</td>\n",
       "      <td>0.073779</td>\n",
       "    </tr>\n",
       "    <tr>\n",
       "      <th>Ur_rail_nu</th>\n",
       "      <td>0.037231</td>\n",
       "      <td>0.195112</td>\n",
       "      <td>-0.081718</td>\n",
       "      <td>0.599837</td>\n",
       "      <td>1.000000</td>\n",
       "      <td>-0.222673</td>\n",
       "      <td>0.473056</td>\n",
       "      <td>0.083953</td>\n",
       "      <td>-0.146138</td>\n",
       "      <td>0.425877</td>\n",
       "      <td>0.068669</td>\n",
       "      <td>0.577918</td>\n",
       "      <td>0.762936</td>\n",
       "      <td>0.052701</td>\n",
       "      <td>-0.133928</td>\n",
       "      <td>0.460433</td>\n",
       "      <td>0.600391</td>\n",
       "      <td>-0.155219</td>\n",
       "    </tr>\n",
       "    <tr>\n",
       "      <th>Bus_te_num</th>\n",
       "      <td>-0.118202</td>\n",
       "      <td>0.292421</td>\n",
       "      <td>0.286328</td>\n",
       "      <td>0.030022</td>\n",
       "      <td>-0.222673</td>\n",
       "      <td>1.000000</td>\n",
       "      <td>-0.184897</td>\n",
       "      <td>-0.210943</td>\n",
       "      <td>0.160782</td>\n",
       "      <td>-0.066855</td>\n",
       "      <td>-0.058462</td>\n",
       "      <td>-0.105170</td>\n",
       "      <td>-0.101114</td>\n",
       "      <td>0.389511</td>\n",
       "      <td>-0.042755</td>\n",
       "      <td>-0.393670</td>\n",
       "      <td>-0.271166</td>\n",
       "      <td>-0.089342</td>\n",
       "    </tr>\n",
       "    <tr>\n",
       "      <th>spot_num_3</th>\n",
       "      <td>-0.002767</td>\n",
       "      <td>0.473603</td>\n",
       "      <td>-0.013904</td>\n",
       "      <td>0.286621</td>\n",
       "      <td>0.473056</td>\n",
       "      <td>-0.184897</td>\n",
       "      <td>1.000000</td>\n",
       "      <td>0.105507</td>\n",
       "      <td>-0.036763</td>\n",
       "      <td>0.063693</td>\n",
       "      <td>-0.113622</td>\n",
       "      <td>0.527206</td>\n",
       "      <td>0.416107</td>\n",
       "      <td>0.033669</td>\n",
       "      <td>-0.156331</td>\n",
       "      <td>0.271545</td>\n",
       "      <td>0.399806</td>\n",
       "      <td>-0.132962</td>\n",
       "    </tr>\n",
       "    <tr>\n",
       "      <th>univ_num_1</th>\n",
       "      <td>0.063075</td>\n",
       "      <td>-0.017551</td>\n",
       "      <td>-0.142871</td>\n",
       "      <td>-0.006807</td>\n",
       "      <td>0.083953</td>\n",
       "      <td>-0.210943</td>\n",
       "      <td>0.105507</td>\n",
       "      <td>1.000000</td>\n",
       "      <td>-0.091747</td>\n",
       "      <td>0.440836</td>\n",
       "      <td>-0.262432</td>\n",
       "      <td>-0.132861</td>\n",
       "      <td>-0.126630</td>\n",
       "      <td>-0.182893</td>\n",
       "      <td>0.100713</td>\n",
       "      <td>0.007059</td>\n",
       "      <td>-0.028046</td>\n",
       "      <td>0.027430</td>\n",
       "    </tr>\n",
       "    <tr>\n",
       "      <th>ur_park_num</th>\n",
       "      <td>0.265964</td>\n",
       "      <td>-0.225859</td>\n",
       "      <td>0.142943</td>\n",
       "      <td>-0.019497</td>\n",
       "      <td>-0.146138</td>\n",
       "      <td>0.160782</td>\n",
       "      <td>-0.036763</td>\n",
       "      <td>-0.091747</td>\n",
       "      <td>1.000000</td>\n",
       "      <td>0.036401</td>\n",
       "      <td>0.096962</td>\n",
       "      <td>-0.195005</td>\n",
       "      <td>-0.209510</td>\n",
       "      <td>0.043767</td>\n",
       "      <td>0.040645</td>\n",
       "      <td>0.058911</td>\n",
       "      <td>0.076345</td>\n",
       "      <td>-0.033421</td>\n",
       "    </tr>\n",
       "    <tr>\n",
       "      <th>Cul_hall_n</th>\n",
       "      <td>0.154915</td>\n",
       "      <td>-0.133438</td>\n",
       "      <td>-0.019465</td>\n",
       "      <td>0.190004</td>\n",
       "      <td>0.425877</td>\n",
       "      <td>-0.066855</td>\n",
       "      <td>0.063693</td>\n",
       "      <td>0.440836</td>\n",
       "      <td>0.036401</td>\n",
       "      <td>1.000000</td>\n",
       "      <td>-0.032580</td>\n",
       "      <td>0.142655</td>\n",
       "      <td>0.292509</td>\n",
       "      <td>0.051561</td>\n",
       "      <td>0.079066</td>\n",
       "      <td>0.332859</td>\n",
       "      <td>0.376095</td>\n",
       "      <td>-0.120249</td>\n",
       "    </tr>\n",
       "    <tr>\n",
       "      <th>Mart_num_1</th>\n",
       "      <td>0.196400</td>\n",
       "      <td>-0.553287</td>\n",
       "      <td>0.172373</td>\n",
       "      <td>-0.144837</td>\n",
       "      <td>0.068669</td>\n",
       "      <td>-0.058462</td>\n",
       "      <td>-0.113622</td>\n",
       "      <td>-0.262432</td>\n",
       "      <td>0.096962</td>\n",
       "      <td>-0.032580</td>\n",
       "      <td>1.000000</td>\n",
       "      <td>-0.183626</td>\n",
       "      <td>-0.169890</td>\n",
       "      <td>0.228737</td>\n",
       "      <td>0.246023</td>\n",
       "      <td>0.349061</td>\n",
       "      <td>0.295518</td>\n",
       "      <td>0.040218</td>\n",
       "    </tr>\n",
       "    <tr>\n",
       "      <th>parking_num</th>\n",
       "      <td>0.049037</td>\n",
       "      <td>0.307491</td>\n",
       "      <td>-0.018664</td>\n",
       "      <td>0.623485</td>\n",
       "      <td>0.577918</td>\n",
       "      <td>-0.105170</td>\n",
       "      <td>0.527206</td>\n",
       "      <td>-0.132861</td>\n",
       "      <td>-0.195005</td>\n",
       "      <td>0.142655</td>\n",
       "      <td>-0.183626</td>\n",
       "      <td>1.000000</td>\n",
       "      <td>0.898363</td>\n",
       "      <td>0.002736</td>\n",
       "      <td>-0.105062</td>\n",
       "      <td>0.089522</td>\n",
       "      <td>0.160251</td>\n",
       "      <td>0.139570</td>\n",
       "    </tr>\n",
       "    <tr>\n",
       "      <th>parking_car_num</th>\n",
       "      <td>0.019373</td>\n",
       "      <td>0.334959</td>\n",
       "      <td>0.032073</td>\n",
       "      <td>0.695407</td>\n",
       "      <td>0.762936</td>\n",
       "      <td>-0.101114</td>\n",
       "      <td>0.416107</td>\n",
       "      <td>-0.126630</td>\n",
       "      <td>-0.209510</td>\n",
       "      <td>0.292509</td>\n",
       "      <td>-0.169890</td>\n",
       "      <td>0.898363</td>\n",
       "      <td>1.000000</td>\n",
       "      <td>-0.024867</td>\n",
       "      <td>-0.166718</td>\n",
       "      <td>0.145187</td>\n",
       "      <td>0.240652</td>\n",
       "      <td>0.015719</td>\n",
       "    </tr>\n",
       "    <tr>\n",
       "      <th>stor_cnt</th>\n",
       "      <td>0.115404</td>\n",
       "      <td>-0.047747</td>\n",
       "      <td>-0.159273</td>\n",
       "      <td>0.111209</td>\n",
       "      <td>0.052701</td>\n",
       "      <td>0.389511</td>\n",
       "      <td>0.033669</td>\n",
       "      <td>-0.182893</td>\n",
       "      <td>0.043767</td>\n",
       "      <td>0.051561</td>\n",
       "      <td>0.228737</td>\n",
       "      <td>0.002736</td>\n",
       "      <td>-0.024867</td>\n",
       "      <td>1.000000</td>\n",
       "      <td>0.148754</td>\n",
       "      <td>0.155966</td>\n",
       "      <td>0.259640</td>\n",
       "      <td>-0.246811</td>\n",
       "    </tr>\n",
       "    <tr>\n",
       "      <th>residnt_cnt_sum</th>\n",
       "      <td>0.111732</td>\n",
       "      <td>-0.289580</td>\n",
       "      <td>0.203798</td>\n",
       "      <td>0.208673</td>\n",
       "      <td>-0.133928</td>\n",
       "      <td>-0.042755</td>\n",
       "      <td>-0.156331</td>\n",
       "      <td>0.100713</td>\n",
       "      <td>0.040645</td>\n",
       "      <td>0.079066</td>\n",
       "      <td>0.246023</td>\n",
       "      <td>-0.105062</td>\n",
       "      <td>-0.166718</td>\n",
       "      <td>0.148754</td>\n",
       "      <td>1.000000</td>\n",
       "      <td>0.310169</td>\n",
       "      <td>0.197682</td>\n",
       "      <td>0.392115</td>\n",
       "    </tr>\n",
       "    <tr>\n",
       "      <th>mkt_cnt_sum</th>\n",
       "      <td>0.024442</td>\n",
       "      <td>-0.244384</td>\n",
       "      <td>-0.142332</td>\n",
       "      <td>0.223558</td>\n",
       "      <td>0.460433</td>\n",
       "      <td>-0.393670</td>\n",
       "      <td>0.271545</td>\n",
       "      <td>0.007059</td>\n",
       "      <td>0.058911</td>\n",
       "      <td>0.332859</td>\n",
       "      <td>0.349061</td>\n",
       "      <td>0.089522</td>\n",
       "      <td>0.145187</td>\n",
       "      <td>0.155966</td>\n",
       "      <td>0.310169</td>\n",
       "      <td>1.000000</td>\n",
       "      <td>0.925791</td>\n",
       "      <td>-0.153753</td>\n",
       "    </tr>\n",
       "    <tr>\n",
       "      <th>stor_cnt_sum</th>\n",
       "      <td>-0.004140</td>\n",
       "      <td>-0.126068</td>\n",
       "      <td>-0.121643</td>\n",
       "      <td>0.243738</td>\n",
       "      <td>0.600391</td>\n",
       "      <td>-0.271166</td>\n",
       "      <td>0.399806</td>\n",
       "      <td>-0.028046</td>\n",
       "      <td>0.076345</td>\n",
       "      <td>0.376095</td>\n",
       "      <td>0.295518</td>\n",
       "      <td>0.160251</td>\n",
       "      <td>0.240652</td>\n",
       "      <td>0.259640</td>\n",
       "      <td>0.197682</td>\n",
       "      <td>0.925791</td>\n",
       "      <td>1.000000</td>\n",
       "      <td>-0.340017</td>\n",
       "    </tr>\n",
       "    <tr>\n",
       "      <th>person_mkt_cnt</th>\n",
       "      <td>-0.027648</td>\n",
       "      <td>0.091024</td>\n",
       "      <td>0.175873</td>\n",
       "      <td>0.073779</td>\n",
       "      <td>-0.155219</td>\n",
       "      <td>-0.089342</td>\n",
       "      <td>-0.132962</td>\n",
       "      <td>0.027430</td>\n",
       "      <td>-0.033421</td>\n",
       "      <td>-0.120249</td>\n",
       "      <td>0.040218</td>\n",
       "      <td>0.139570</td>\n",
       "      <td>0.015719</td>\n",
       "      <td>-0.246811</td>\n",
       "      <td>0.392115</td>\n",
       "      <td>-0.153753</td>\n",
       "      <td>-0.340017</td>\n",
       "      <td>1.000000</td>\n",
       "    </tr>\n",
       "  </tbody>\n",
       "</table>\n",
       "</div>"
      ],
      "text/plain": [
       "                 store_num  sales_per_store  salesrate  Bus_st_num  \\\n",
       "store_num         1.000000        -0.438366  -0.028297    0.047493   \n",
       "sales_per_store  -0.438366         1.000000   0.080194    0.291140   \n",
       "salesrate        -0.028297         0.080194   1.000000   -0.078239   \n",
       "Bus_st_num        0.047493         0.291140  -0.078239    1.000000   \n",
       "Ur_rail_nu        0.037231         0.195112  -0.081718    0.599837   \n",
       "Bus_te_num       -0.118202         0.292421   0.286328    0.030022   \n",
       "spot_num_3       -0.002767         0.473603  -0.013904    0.286621   \n",
       "univ_num_1        0.063075        -0.017551  -0.142871   -0.006807   \n",
       "ur_park_num       0.265964        -0.225859   0.142943   -0.019497   \n",
       "Cul_hall_n        0.154915        -0.133438  -0.019465    0.190004   \n",
       "Mart_num_1        0.196400        -0.553287   0.172373   -0.144837   \n",
       "parking_num       0.049037         0.307491  -0.018664    0.623485   \n",
       "parking_car_num   0.019373         0.334959   0.032073    0.695407   \n",
       "stor_cnt          0.115404        -0.047747  -0.159273    0.111209   \n",
       "residnt_cnt_sum   0.111732        -0.289580   0.203798    0.208673   \n",
       "mkt_cnt_sum       0.024442        -0.244384  -0.142332    0.223558   \n",
       "stor_cnt_sum     -0.004140        -0.126068  -0.121643    0.243738   \n",
       "person_mkt_cnt   -0.027648         0.091024   0.175873    0.073779   \n",
       "\n",
       "                 Ur_rail_nu  Bus_te_num  spot_num_3  univ_num_1  ur_park_num  \\\n",
       "store_num          0.037231   -0.118202   -0.002767    0.063075     0.265964   \n",
       "sales_per_store    0.195112    0.292421    0.473603   -0.017551    -0.225859   \n",
       "salesrate         -0.081718    0.286328   -0.013904   -0.142871     0.142943   \n",
       "Bus_st_num         0.599837    0.030022    0.286621   -0.006807    -0.019497   \n",
       "Ur_rail_nu         1.000000   -0.222673    0.473056    0.083953    -0.146138   \n",
       "Bus_te_num        -0.222673    1.000000   -0.184897   -0.210943     0.160782   \n",
       "spot_num_3         0.473056   -0.184897    1.000000    0.105507    -0.036763   \n",
       "univ_num_1         0.083953   -0.210943    0.105507    1.000000    -0.091747   \n",
       "ur_park_num       -0.146138    0.160782   -0.036763   -0.091747     1.000000   \n",
       "Cul_hall_n         0.425877   -0.066855    0.063693    0.440836     0.036401   \n",
       "Mart_num_1         0.068669   -0.058462   -0.113622   -0.262432     0.096962   \n",
       "parking_num        0.577918   -0.105170    0.527206   -0.132861    -0.195005   \n",
       "parking_car_num    0.762936   -0.101114    0.416107   -0.126630    -0.209510   \n",
       "stor_cnt           0.052701    0.389511    0.033669   -0.182893     0.043767   \n",
       "residnt_cnt_sum   -0.133928   -0.042755   -0.156331    0.100713     0.040645   \n",
       "mkt_cnt_sum        0.460433   -0.393670    0.271545    0.007059     0.058911   \n",
       "stor_cnt_sum       0.600391   -0.271166    0.399806   -0.028046     0.076345   \n",
       "person_mkt_cnt    -0.155219   -0.089342   -0.132962    0.027430    -0.033421   \n",
       "\n",
       "                 Cul_hall_n  Mart_num_1  parking_num  parking_car_num  \\\n",
       "store_num          0.154915    0.196400     0.049037         0.019373   \n",
       "sales_per_store   -0.133438   -0.553287     0.307491         0.334959   \n",
       "salesrate         -0.019465    0.172373    -0.018664         0.032073   \n",
       "Bus_st_num         0.190004   -0.144837     0.623485         0.695407   \n",
       "Ur_rail_nu         0.425877    0.068669     0.577918         0.762936   \n",
       "Bus_te_num        -0.066855   -0.058462    -0.105170        -0.101114   \n",
       "spot_num_3         0.063693   -0.113622     0.527206         0.416107   \n",
       "univ_num_1         0.440836   -0.262432    -0.132861        -0.126630   \n",
       "ur_park_num        0.036401    0.096962    -0.195005        -0.209510   \n",
       "Cul_hall_n         1.000000   -0.032580     0.142655         0.292509   \n",
       "Mart_num_1        -0.032580    1.000000    -0.183626        -0.169890   \n",
       "parking_num        0.142655   -0.183626     1.000000         0.898363   \n",
       "parking_car_num    0.292509   -0.169890     0.898363         1.000000   \n",
       "stor_cnt           0.051561    0.228737     0.002736        -0.024867   \n",
       "residnt_cnt_sum    0.079066    0.246023    -0.105062        -0.166718   \n",
       "mkt_cnt_sum        0.332859    0.349061     0.089522         0.145187   \n",
       "stor_cnt_sum       0.376095    0.295518     0.160251         0.240652   \n",
       "person_mkt_cnt    -0.120249    0.040218     0.139570         0.015719   \n",
       "\n",
       "                 stor_cnt  residnt_cnt_sum  mkt_cnt_sum  stor_cnt_sum  \\\n",
       "store_num        0.115404         0.111732     0.024442     -0.004140   \n",
       "sales_per_store -0.047747        -0.289580    -0.244384     -0.126068   \n",
       "salesrate       -0.159273         0.203798    -0.142332     -0.121643   \n",
       "Bus_st_num       0.111209         0.208673     0.223558      0.243738   \n",
       "Ur_rail_nu       0.052701        -0.133928     0.460433      0.600391   \n",
       "Bus_te_num       0.389511        -0.042755    -0.393670     -0.271166   \n",
       "spot_num_3       0.033669        -0.156331     0.271545      0.399806   \n",
       "univ_num_1      -0.182893         0.100713     0.007059     -0.028046   \n",
       "ur_park_num      0.043767         0.040645     0.058911      0.076345   \n",
       "Cul_hall_n       0.051561         0.079066     0.332859      0.376095   \n",
       "Mart_num_1       0.228737         0.246023     0.349061      0.295518   \n",
       "parking_num      0.002736        -0.105062     0.089522      0.160251   \n",
       "parking_car_num -0.024867        -0.166718     0.145187      0.240652   \n",
       "stor_cnt         1.000000         0.148754     0.155966      0.259640   \n",
       "residnt_cnt_sum  0.148754         1.000000     0.310169      0.197682   \n",
       "mkt_cnt_sum      0.155966         0.310169     1.000000      0.925791   \n",
       "stor_cnt_sum     0.259640         0.197682     0.925791      1.000000   \n",
       "person_mkt_cnt  -0.246811         0.392115    -0.153753     -0.340017   \n",
       "\n",
       "                 person_mkt_cnt  \n",
       "store_num             -0.027648  \n",
       "sales_per_store        0.091024  \n",
       "salesrate              0.175873  \n",
       "Bus_st_num             0.073779  \n",
       "Ur_rail_nu            -0.155219  \n",
       "Bus_te_num            -0.089342  \n",
       "spot_num_3            -0.132962  \n",
       "univ_num_1             0.027430  \n",
       "ur_park_num           -0.033421  \n",
       "Cul_hall_n            -0.120249  \n",
       "Mart_num_1             0.040218  \n",
       "parking_num            0.139570  \n",
       "parking_car_num        0.015719  \n",
       "stor_cnt              -0.246811  \n",
       "residnt_cnt_sum        0.392115  \n",
       "mkt_cnt_sum           -0.153753  \n",
       "stor_cnt_sum          -0.340017  \n",
       "person_mkt_cnt         1.000000  "
      ]
     },
     "execution_count": 460,
     "metadata": {},
     "output_type": "execute_result"
    }
   ],
   "source": [
    "corr = num_data.corr()\n",
    "corr"
   ]
  },
  {
   "cell_type": "code",
   "execution_count": 461,
   "metadata": {},
   "outputs": [
    {
     "name": "stderr",
     "output_type": "stream",
     "text": [
      "C:\\Users\\User\\python\\lib\\site-packages\\matplotlib\\backends\\backend_agg.py:211: RuntimeWarning: Glyph 8722 missing from current font.\n",
      "  font.set_text(s, 0.0, flags=flags)\n",
      "C:\\Users\\User\\python\\lib\\site-packages\\matplotlib\\backends\\backend_agg.py:180: RuntimeWarning: Glyph 8722 missing from current font.\n",
      "  font.set_text(s, 0, flags=flags)\n"
     ]
    },
    {
     "data": {
      "text/plain": [
       "<matplotlib.axes._subplots.AxesSubplot at 0x2e152408848>"
      ]
     },
     "execution_count": 461,
     "metadata": {},
     "output_type": "execute_result"
    },
    {
     "data": {
      "image/png": "[encoded data removed]",
      "text/plain": [
       "<Figure size 720x576 with 2 Axes>"
      ]
     },
     "metadata": {
      "needs_background": "light"
     },
     "output_type": "display_data"
    }
   ],
   "source": [
    "#상관계수에 따른 히트맵\n",
    "plt.subplots(figsize=(10,8)) \n",
    "sns.heatmap(corr, cmap='YlGnBu')\n",
    "#plt.show()"
   ]
  },
  {
   "cell_type": "code",
   "execution_count": 462,
   "metadata": {},
   "outputs": [],
   "source": [
    "# 이상치 제거 전 boxplot\n",
    "#for i in data_col:\n",
    "#    plt.boxplot(num_data[i])\n",
    "#    plt.xlabel(i)\n",
    "#    plt.show()"
   ]
  },
  {
   "cell_type": "code",
   "execution_count": 463,
   "metadata": {},
   "outputs": [],
   "source": [
    "#이상치 제거\n",
    "#num_data = num_data[num_data['sales_per_store']<120]\n",
    "#num_data = num_data[num_data['salesrate']>40]\n",
    "#num_data = num_data[num_data['Bus_st_num']<100]\n",
    "#num_data = num_data[num_data['spot_num_3']<5]\n",
    "#num_data = num_data[num_data['parking_num']<60]\n",
    "#num_data = num_data[num_data['parking_car_num']<4000]\n",
    "#num_data = num_data[num_data['stor_cnt']<720]\n",
    "#num_data = num_data[num_data['mkt_cnt_sum']<45]\n",
    "#num_data = num_data[num_data['stor_cnt_sum']<8000]\n",
    "#num_data = num_data[num_data['person_mkt_cnt']<1000]"
   ]
  },
  {
   "cell_type": "code",
   "execution_count": 464,
   "metadata": {},
   "outputs": [],
   "source": [
    "# 필요 변수 추출 - R studio 사용 \n",
    "# AIC = 194.48\n",
    "# 기존 이상치 제거 후 필요 변수 추출 -> 데이터 값이 너무 사라져서\n",
    "# 필요 변수 추출 후 기준 이상치 제거\n",
    "\n",
    "XY_data = num_data[['store_num', 'Bus_te_num', 'spot_num_3', 'ur_park_num', 'parking_num', 'Cul_hall_n',\n",
    "                  'Mart_num_1', 'parking_car_num', 'residnt_cnt_sum','person_mkt_cnt', 'sales_per_store']]\n",
    "XY_data_col = XY_data.columns"
   ]
  },
  {
   "cell_type": "markdown",
   "metadata": {},
   "source": [
    "### boxplot 으로 이상치 확인"
   ]
  },
  {
   "cell_type": "code",
   "execution_count": 465,
   "metadata": {},
   "outputs": [
    {
     "data": {
      "image/png": "[encoded data removed]",
      "text/plain": [
       "<Figure size 432x288 with 1 Axes>"
      ]
     },
     "metadata": {
      "needs_background": "light"
     },
     "output_type": "display_data"
    },
    {
     "data": {
      "image/png": "[encoded data removed]",
      "text/plain": [
       "<Figure size 432x288 with 1 Axes>"
      ]
     },
     "metadata": {
      "needs_background": "light"
     },
     "output_type": "display_data"
    },
    {
     "data": {
      "image/png": "[encoded data removed]",
      "text/plain": [
       "<Figure size 432x288 with 1 Axes>"
      ]
     },
     "metadata": {
      "needs_background": "light"
     },
     "output_type": "display_data"
    },
    {
     "data": {
      "image/png": "[encoded data removed]",
      "text/plain": [
       "<Figure size 432x288 with 1 Axes>"
      ]
     },
     "metadata": {
      "needs_background": "light"
     },
     "output_type": "display_data"
    },
    {
     "data": {
      "image/png": "[encoded data removed]",
      "text/plain": [
       "<Figure size 432x288 with 1 Axes>"
      ]
     },
     "metadata": {
      "needs_background": "light"
     },
     "output_type": "display_data"
    },
    {
     "data": {
      "image/png": "[encoded data removed]",
      "text/plain": [
       "<Figure size 432x288 with 1 Axes>"
      ]
     },
     "metadata": {
      "needs_background": "light"
     },
     "output_type": "display_data"
    },
    {
     "data": {
      "image/png": "[encoded data removed]",
      "text/plain": [
       "<Figure size 432x288 with 1 Axes>"
      ]
     },
     "metadata": {
      "needs_background": "light"
     },
     "output_type": "display_data"
    },
    {
     "data": {
      "image/png": "[encoded data removed]",
      "text/plain": [
       "<Figure size 432x288 with 1 Axes>"
      ]
     },
     "metadata": {
      "needs_background": "light"
     },
     "output_type": "display_data"
    },
    {
     "data": {
      "image/png": "[encoded data removed]",
      "text/plain": [
       "<Figure size 432x288 with 1 Axes>"
      ]
     },
     "metadata": {
      "needs_background": "light"
     },
     "output_type": "display_data"
    },
    {
     "data": {
      "image/png": "[encoded data removed]",
      "text/plain": [
       "<Figure size 432x288 with 1 Axes>"
      ]
     },
     "metadata": {
      "needs_background": "light"
     },
     "output_type": "display_data"
    },
    {
     "data": {
      "image/png": "[encoded data removed]",
      "text/plain": [
       "<Figure size 432x288 with 1 Axes>"
      ]
     },
     "metadata": {
      "needs_background": "light"
     },
     "output_type": "display_data"
    }
   ],
   "source": [
    "for i in XY_data_col:\n",
    "    plt.boxplot(XY_data[i])\n",
    "    plt.xlabel(i)\n",
    "    plt.show()"
   ]
  },
  {
   "cell_type": "code",
   "execution_count": 466,
   "metadata": {},
   "outputs": [],
   "source": [
    "# 나온 변수들에 대해서만 이상치 제거\n",
    "XY_data = XY_data[XY_data['parking_num']<60]\n",
    "XY_data = XY_data[XY_data['parking_car_num']<4000]\n",
    "XY_data = XY_data[XY_data['person_mkt_cnt']<1000]"
   ]
  },
  {
   "cell_type": "code",
   "execution_count": 467,
   "metadata": {},
   "outputs": [
    {
     "data": {
      "text/plain": [
       "(35, 11)"
      ]
     },
     "execution_count": 467,
     "metadata": {},
     "output_type": "execute_result"
    }
   ],
   "source": [
    "XY_data.shape # 이상치 제거 후 38개 => 35개"
   ]
  },
  {
   "cell_type": "code",
   "execution_count": 468,
   "metadata": {},
   "outputs": [],
   "source": [
    "# 독립변수, 종속변수 분리\n",
    "X_data = XY_data[['store_num', 'Bus_te_num', 'spot_num_3', 'ur_park_num', 'parking_num', 'Cul_hall_n',\n",
    "                  'Mart_num_1', 'parking_car_num','residnt_cnt_sum', 'person_mkt_cnt']]\n",
    "Y_data = XY_data['sales_per_store']"
   ]
  },
  {
   "cell_type": "code",
   "execution_count": 469,
   "metadata": {},
   "outputs": [
    {
     "name": "stdout",
     "output_type": "stream",
     "text": [
      "a value =  80.89388142823682\n",
      "b value =  [-9.27748926e-01  1.36863863e+01  1.05878041e+01 -1.17365876e+01\n",
      " -4.69638817e-01 -8.97387358e+00 -2.76728110e+01  9.90619210e-03\n",
      " -1.75740803e-05  4.34539393e-03]\n"
     ]
    }
   ],
   "source": [
    "linear_regression = linear_model.LinearRegression()\n",
    "linear_regression.fit(X = pd.DataFrame(X_data), y = Y_data)\n",
    "prediction = linear_regression.predict(X = pd.DataFrame(X_data))\n",
    "print('a value = ', linear_regression.intercept_)\n",
    "print('b value = ', linear_regression.coef_)"
   ]
  },
  {
   "cell_type": "code",
   "execution_count": 470,
   "metadata": {},
   "outputs": [],
   "source": [
    "YY_data = np.array(Y_data)"
   ]
  },
  {
   "cell_type": "code",
   "execution_count": 471,
   "metadata": {},
   "outputs": [
    {
     "data": {
      "text/plain": [
       "array([121.5220626 ,  96.48986706,  87.68918787,  84.04857317,\n",
       "        90.80025222, 111.31773521,  75.93978471,  74.86816902,\n",
       "        71.46189061,  71.43466556,  58.37395818,  60.17078777,\n",
       "        63.57547625,  35.54137487,  49.99413038,  40.78775861,\n",
       "        53.32328375,  50.32758827,  41.25053304,  37.77751792,\n",
       "        34.26787108,  44.37766782,  43.75759967,  53.97239224,\n",
       "        18.83668209,  33.11729455,  44.35931846,  36.75750004,\n",
       "        39.47501628,  41.50568535,  29.52432304,  32.15811082,\n",
       "        18.64796211,  27.52482567,   8.61631458])"
      ]
     },
     "execution_count": 471,
     "metadata": {},
     "output_type": "execute_result"
    }
   ],
   "source": [
    "prediction"
   ]
  },
  {
   "cell_type": "markdown",
   "metadata": {},
   "source": [
    "###  "
   ]
  },
  {
   "cell_type": "markdown",
   "metadata": {},
   "source": [
    "## [ 다중회귀분석 ]"
   ]
  },
  {
   "cell_type": "code",
   "execution_count": 472,
   "metadata": {},
   "outputs": [
    {
     "data": {
      "image/png": "[encoded data removed]",
      "text/plain": [
       "<Figure size 864x288 with 1 Axes>"
      ]
     },
     "metadata": {
      "needs_background": "light"
     },
     "output_type": "display_data"
    }
   ],
   "source": [
    "fig = plt.figure( figsize = (12, 4))\n",
    "chart = fig.add_subplot(1,1,1)\n",
    "chart.plot(YY_data[:35], marker='o', color='red', label='실제값')\n",
    "chart.plot(prediction[:35], marker='^', color='blue', label='예측값')\n",
    "chart.set_title('다중회귀분석 예측 결과 그래프', size=20)\n",
    "plt.xlabel('index', size=12)  #횟수 별로 의미없는 말인듯\n",
    "plt.ylabel('점포당 매출액', size=15)\n",
    "plt.legend(loc = 'best') \n",
    "plt.show()"
   ]
  },
  {
   "cell_type": "markdown",
   "metadata": {},
   "source": [
    "###  정확도 검증 "
   ]
  },
  {
   "cell_type": "code",
   "execution_count": 473,
   "metadata": {},
   "outputs": [
    {
     "data": {
      "text/plain": [
       "count    3.500000e+01\n",
       "mean    -4.060244e-15\n",
       "std      1.004663e+01\n",
       "min     -2.091774e+01\n",
       "25%     -6.369095e+00\n",
       "50%      1.177937e+00\n",
       "75%      5.571274e+00\n",
       "max      1.911081e+01\n",
       "Name: sales_per_store, dtype: float64"
      ]
     },
     "execution_count": 473,
     "metadata": {},
     "output_type": "execute_result"
    }
   ],
   "source": [
    "# 적합도 검증 - 잔차\n",
    "residuals = Y_data-prediction\n",
    "residuals.describe()"
   ]
  },
  {
   "cell_type": "code",
   "execution_count": 474,
   "metadata": {},
   "outputs": [
    {
     "name": "stdout",
     "output_type": "stream",
     "text": [
      "R_squared =  0.8739313575331313\n"
     ]
    }
   ],
   "source": [
    "# 적합도 검증 - 결정계수\n",
    "SSE = (residuals**2).sum()\n",
    "SST = ((Y_data-Y_data.mean())**2).sum()\n",
    "R_squared = 1 - (SSE/SST)\n",
    "print('R_squared = ', R_squared)"
   ]
  },
  {
   "cell_type": "code",
   "execution_count": 475,
   "metadata": {},
   "outputs": [
    {
     "name": "stdout",
     "output_type": "stream",
     "text": [
      "score =  0.8739313575331313\n"
     ]
    }
   ],
   "source": [
    "#score 계산\n",
    "from sklearn.metrics import mean_squared_error\n",
    "print('score = ', linear_regression.score(X =pd.DataFrame(X_data), y=Y_data))"
   ]
  },
  {
   "cell_type": "code",
   "execution_count": 476,
   "metadata": {},
   "outputs": [
    {
     "name": "stderr",
     "output_type": "stream",
     "text": [
      "C:\\Users\\User\\python\\lib\\site-packages\\matplotlib\\backends\\backend_agg.py:211: RuntimeWarning: Glyph 8722 missing from current font.\n",
      "  font.set_text(s, 0.0, flags=flags)\n",
      "C:\\Users\\User\\python\\lib\\site-packages\\matplotlib\\backends\\backend_agg.py:180: RuntimeWarning: Glyph 8722 missing from current font.\n",
      "  font.set_text(s, 0, flags=flags)\n"
     ]
    },
    {
     "data": {
      "image/png": "[encoded data removed]",
      "text/plain": [
       "<Figure size 432x288 with 1 Axes>"
      ]
     },
     "metadata": {
      "needs_background": "light"
     },
     "output_type": "display_data"
    }
   ],
   "source": [
    "# 잔차 정규성\n",
    "import scipy.stats\n",
    "sr = scipy.stats.zscore(residuals)\n",
    "(x, y), _ = scipy.stats.probplot(sr)\n",
    "sns.scatterplot(x, y)\n",
    "plt.plot([-3, 3], [-3, 3], '--', color='grey')\n",
    "plt.show()"
   ]
  },
  {
   "cell_type": "code",
   "execution_count": 477,
   "metadata": {},
   "outputs": [
    {
     "data": {
      "text/plain": [
       "(0.9758761525154114, 0.6225992441177368)"
      ]
     },
     "execution_count": 477,
     "metadata": {},
     "output_type": "execute_result"
    }
   ],
   "source": [
    "scipy.stats.shapiro(residuals)"
   ]
  },
  {
   "cell_type": "code",
   "execution_count": 478,
   "metadata": {},
   "outputs": [
    {
     "data": {
      "text/plain": [
       "<matplotlib.axes._subplots.AxesSubplot at 0x2e153df6f48>"
      ]
     },
     "execution_count": 478,
     "metadata": {},
     "output_type": "execute_result"
    },
    {
     "data": {
      "image/png": "[encoded data removed]",
      "text/plain": [
       "<Figure size 432x288 with 1 Axes>"
      ]
     },
     "metadata": {
      "needs_background": "light"
     },
     "output_type": "display_data"
    }
   ],
   "source": [
    "#잔차 등분산성\n",
    "sns.regplot(prediction, np.sqrt(np.abs(sr)), lowess=True, line_kws={'color': 'red'})"
   ]
  },
  {
   "cell_type": "markdown",
   "metadata": {},
   "source": [
    "####  "
   ]
  },
  {
   "cell_type": "markdown",
   "metadata": {},
   "source": [
    "####  "
   ]
  },
  {
   "cell_type": "markdown",
   "metadata": {},
   "source": [
    "## [ 5가지 ML 모델 생성 ]"
   ]
  },
  {
   "cell_type": "markdown",
   "metadata": {},
   "source": [
    "###  "
   ]
  },
  {
   "cell_type": "code",
   "execution_count": 479,
   "metadata": {},
   "outputs": [],
   "source": [
    "# 필요한 라이브러리 설치\n",
    "from xgboost import plot_importance\n",
    "import xgboost as xgb ## XGBoost 불러오기\n",
    "from xgboost import plot_importance ## Feature Importance를 불러오기 위함\n",
    "import numpy as np\n",
    "from sklearn.datasets import load_breast_cancer\n",
    "from sklearn.model_selection import train_test_split\n",
    "from sklearn.metrics import confusion_matrix, accuracy_score, precision_score, recall_score\n",
    "from sklearn.metrics import confusion_matrix, f1_score, roc_auc_score\n",
    "from xgboost import XGBRegressor\n",
    "import math\n",
    "import warnings\n",
    "\n",
    "from sklearn.linear_model import Lasso\n",
    "from sklearn.linear_model import Ridge\n",
    "from sklearn.linear_model import LinearRegression\n",
    "from sklearn.metrics import explained_variance_score, mean_squared_error, mean_absolute_error, r2_score, mean_squared_log_error\n",
    "from sklearn.preprocessing import MinMaxScaler\n",
    "\n",
    "#RandomForestClassifier 클래스를 import\n",
    "from sklearn.ensemble import RandomForestRegressor"
   ]
  },
  {
   "cell_type": "code",
   "execution_count": 480,
   "metadata": {},
   "outputs": [],
   "source": [
    "# root mean square log error\n",
    "def rmsle(y_pred, y_test) :\n",
    "    assert len(y_test) == len(y_pred)\n",
    "    return np.sqrt(mean_squared_log_error(y_pred, y_test))"
   ]
  },
  {
   "cell_type": "markdown",
   "metadata": {},
   "source": [
    "####  "
   ]
  },
  {
   "cell_type": "code",
   "execution_count": 481,
   "metadata": {},
   "outputs": [],
   "source": [
    "from sklearn.model_selection import train_test_split\n",
    "X_train, X_test, Y_train, Y_test = train_test_split(X_data, Y_data, test_size = 0.25, random_state = 11)"
   ]
  },
  {
   "cell_type": "code",
   "execution_count": 482,
   "metadata": {},
   "outputs": [
    {
     "name": "stdout",
     "output_type": "stream",
     "text": [
      "(26, 10)\n",
      "(9, 10)\n"
     ]
    }
   ],
   "source": [
    "print(X_train.shape)\n",
    "print(X_test.shape)"
   ]
  },
  {
   "cell_type": "markdown",
   "metadata": {},
   "source": [
    "### Random Forest"
   ]
  },
  {
   "cell_type": "code",
   "execution_count": 483,
   "metadata": {},
   "outputs": [
    {
     "data": {
      "text/plain": [
       "RandomForestRegressor(bootstrap=True, ccp_alpha=0.0, criterion='mse',\n",
       "                      max_depth=None, max_features='auto', max_leaf_nodes=None,\n",
       "                      max_samples=None, min_impurity_decrease=0.0,\n",
       "                      min_impurity_split=None, min_samples_leaf=1,\n",
       "                      min_samples_split=2, min_weight_fraction_leaf=0.0,\n",
       "                      n_estimators=100, n_jobs=None, oob_score=False,\n",
       "                      random_state=None, verbose=0, warm_start=False)"
      ]
     },
     "execution_count": 483,
     "metadata": {},
     "output_type": "execute_result"
    }
   ],
   "source": [
    "rfr = RandomForestRegressor()\n",
    "rfr.fit(X_train, Y_train)"
   ]
  },
  {
   "cell_type": "markdown",
   "metadata": {},
   "source": [
    "### XGBoost"
   ]
  },
  {
   "cell_type": "code",
   "execution_count": 484,
   "metadata": {
    "tags": []
   },
   "outputs": [
    {
     "data": {
      "text/plain": [
       "XGBRegressor(base_score=0.5, booster='gbtree', colsample_bylevel=1,\n",
       "             colsample_bynode=1, colsample_bytree=1, gamma=0, gpu_id=-1,\n",
       "             importance_type='gain', interaction_constraints='',\n",
       "             learning_rate=0.01, max_delta_step=0, max_depth=5,\n",
       "             min_child_weight=1, missing=nan, monotone_constraints='()',\n",
       "             n_estimators=400, n_jobs=8, num_parallel_tree=1,\n",
       "             objective='reg:squarederror', random_state=0, reg_alpha=0,\n",
       "             reg_lambda=1, scale_pos_weight=1, subsample=1, tree_method='exact',\n",
       "             validate_parameters=1, verbosity=None)"
      ]
     },
     "execution_count": 484,
     "metadata": {},
     "output_type": "execute_result"
    }
   ],
   "source": [
    "xgb = XGBRegressor(n_estimators=400, learning_rate = 0.01, max_depth = 5)\n",
    "xgb.fit(X_train, Y_train)"
   ]
  },
  {
   "cell_type": "markdown",
   "metadata": {},
   "source": [
    "### Ridge & Lasso"
   ]
  },
  {
   "cell_type": "code",
   "execution_count": 485,
   "metadata": {},
   "outputs": [],
   "source": [
    "ridge_alpha = 0.1\n",
    "lasso_alpha = 0.01\n",
    "\n",
    "ridge = Ridge(alpha = ridge_alpha).fit(X_train,Y_train)\n",
    "lasso = Lasso(alpha = lasso_alpha).fit(X_train, Y_train)"
   ]
  },
  {
   "cell_type": "markdown",
   "metadata": {},
   "source": [
    "### Decision Tree"
   ]
  },
  {
   "cell_type": "code",
   "execution_count": 486,
   "metadata": {},
   "outputs": [
    {
     "data": {
      "text/plain": [
       "DecisionTreeRegressor(ccp_alpha=0.0, criterion='mse', max_depth=7,\n",
       "                      max_features=None, max_leaf_nodes=None,\n",
       "                      min_impurity_decrease=0.0, min_impurity_split=None,\n",
       "                      min_samples_leaf=1, min_samples_split=2,\n",
       "                      min_weight_fraction_leaf=0.0, presort='deprecated',\n",
       "                      random_state=None, splitter='best')"
      ]
     },
     "execution_count": 486,
     "metadata": {},
     "output_type": "execute_result"
    }
   ],
   "source": [
    "from sklearn.tree import DecisionTreeRegressor\n",
    "Decision = DecisionTreeRegressor(max_depth=7)\n",
    "Decision.fit(X_train,Y_train)"
   ]
  },
  {
   "cell_type": "code",
   "execution_count": 487,
   "metadata": {},
   "outputs": [],
   "source": [
    "# RMSLE는 0에 가까울수록\n",
    "# R_squared는 1에 가까울수록  .. 음수는 모델 잘못된것임\n",
    "# 예측성능평가가 좋은 것임"
   ]
  },
  {
   "cell_type": "code",
   "execution_count": 488,
   "metadata": {},
   "outputs": [
    {
     "name": "stdout",
     "output_type": "stream",
     "text": [
      "           model     RMSLE  R_squared   Accuracy\n",
      "0  Random Forest  0.199342   0.670811  80.065780\n",
      "1        XGBoost  0.432220   0.297140  56.778023\n",
      "2          Ridge  0.216679   0.581045  78.332058\n",
      "3          Lasso  0.214256   0.593608  78.574353\n",
      "4  Decision Tree  0.679698  -1.807056  32.030151\n",
      "\n",
      "\n"
     ]
    },
    {
     "data": {
      "image/png": "[encoded data removed]",
      "text/plain": [
       "<Figure size 432x288 with 1 Axes>"
      ]
     },
     "metadata": {
      "needs_background": "light"
     },
     "output_type": "display_data"
    }
   ],
   "source": [
    "rfr_pred = rfr.predict(X_test)\n",
    "xgb_pred = xgb.predict(X_test)\n",
    "ridge_pred = ridge.predict(X_test)\n",
    "lasso_pred = lasso.predict(X_test)\n",
    "Decision_pred = Decision.predict(X_test)\n",
    "\n",
    "#r2_score\n",
    "rfr_r2, xgb_r2 = r2_score(Y_test,rfr_pred), r2_score(Y_test,xgb_pred)\n",
    "ridge_r2, lasso_r2, Decision_r2 = r2_score(Y_test,ridge_pred), r2_score(Y_test,lasso_pred), r2_score(Y_test, Decision_pred)\n",
    "\n",
    "#rmsle\n",
    "rfr_RMSLE, xgb_RMSLE = rmsle(Y_test, rfr_pred), rmsle(Y_test, xgb_pred)\n",
    "ridge_RMSLE, lasso_RMSLE, Decision_RMSLE = rmsle(Y_test,ridge_pred), rmsle(Y_test,lasso_pred), rmsle(Y_test, Decision_pred)\n",
    "\n",
    "my_prediction = {}\n",
    "from pandas import DataFrame\n",
    "Model_name = ['Random Forest','XGBoost', 'Ridge','Lasso','Decision Tree']\n",
    "Model_RMSLE = [rfr_RMSLE, xgb_RMSLE, ridge_RMSLE, lasso_RMSLE, Decision_RMSLE]\n",
    "Model_R2 = [rfr_r2, xgb_r2, ridge_r2, lasso_r2, Decision_r2]\n",
    "Model_Accuracy = [100-rfr_RMSLE*100, 100-xgb_RMSLE*100, 100-ridge_RMSLE*100, 100-lasso_RMSLE*100, 100-Decision_RMSLE*100]\n",
    "my_prediction = {'model':Model_name, 'RMSLE':Model_RMSLE,'R_squared': Model_R2, 'Accuracy' : Model_Accuracy}\n",
    "df = DataFrame(my_prediction)\n",
    "print(df)\n",
    "print('\\n')\n",
    "\n",
    "fig = plt.figure()\n",
    "ax = fig.add_subplot(111)\n",
    "ax.plot(range(len(Y_test)), Y_test, '-', label=\"Original Y\")\n",
    "ax.plot(range(len(Y_test)), rfr_pred, '-x', label=\"rfr_pred\")\n",
    "ax.plot(range(len(Y_test)), xgb_pred, '-x', label=\"xgb_pred\")\n",
    "ax.plot(range(len(Y_test)), ridge_pred, '-x', label=\"ridge_pred\")\n",
    "ax.plot(range(len(Y_test)), lasso_pred, '-x', label=\"lasso_pred\")\n",
    "ax.plot(range(len(Y_test)), Decision_pred, '-x', label=\"Decision_pred\")\n",
    "plt.title('테스트 모델 값 비교')\n",
    "plt.xlabel('Xtest_index')\n",
    "plt.ylabel('predict Y')\n",
    "\n",
    "\n",
    "plt.legend(loc='upper right')\n",
    "plt.show()"
   ]
  },
  {
   "cell_type": "markdown",
   "metadata": {},
   "source": [
    "##  "
   ]
  },
  {
   "cell_type": "markdown",
   "metadata": {},
   "source": [
    "### ML 모델 정확도 비교"
   ]
  },
  {
   "cell_type": "code",
   "execution_count": 489,
   "metadata": {
    "scrolled": true
   },
   "outputs": [
    {
     "data": {
      "image/png": "[encoded data removed]",
      "text/plain": [
       "<Figure size 648x360 with 1 Axes>"
      ]
     },
     "metadata": {
      "needs_background": "light"
     },
     "output_type": "display_data"
    }
   ],
   "source": [
    "plt.figure(figsize=(9, 5))\n",
    "ax = plt.subplot()    \n",
    "ax.set_yticks(np.arange(len(df)))\n",
    "ax.set_yticklabels(df['model'], fontsize=12)\n",
    "bars = ax.barh(np.arange(len(df)), df['Accuracy'], height=0.3)\n",
    "for i, v in enumerate(Model_Accuracy):\n",
    "    ax.text(v + 2, i, str(round(v, 3))+'%', color='k', fontsize=12, fontweight='bold', verticalalignment='center')\n",
    "plt.title('Model Accuracy', fontsize=16)\n",
    "plt.xlim(0,100)\n",
    "#plt.xlim(min_, max_)    \n",
    "plt.show()"
   ]
  },
  {
   "cell_type": "markdown",
   "metadata": {},
   "source": [
    "###  "
   ]
  },
  {
   "cell_type": "markdown",
   "metadata": {},
   "source": [
    "### => 정확도가 가장높은 RandomForest Regression 을 최종모델로 채택"
   ]
  },
  {
   "cell_type": "markdown",
   "metadata": {},
   "source": [
    "###  "
   ]
  },
  {
   "cell_type": "markdown",
   "metadata": {},
   "source": [
    "## [ Model Test ]"
   ]
  },
  {
   "cell_type": "markdown",
   "metadata": {},
   "source": [
    "### 전통시장 데이터에 모델 대입"
   ]
  },
  {
   "cell_type": "code",
   "execution_count": 490,
   "metadata": {
    "scrolled": true
   },
   "outputs": [
    {
     "data": {
      "text/html": [
       "<div>\n",
       "<style scoped>\n",
       "    .dataframe tbody tr th:only-of-type {\n",
       "        vertical-align: middle;\n",
       "    }\n",
       "\n",
       "    .dataframe tbody tr th {\n",
       "        vertical-align: top;\n",
       "    }\n",
       "\n",
       "    .dataframe thead th {\n",
       "        text-align: right;\n",
       "    }\n",
       "</style>\n",
       "<table border=\"1\" class=\"dataframe\">\n",
       "  <thead>\n",
       "    <tr style=\"text-align: right;\">\n",
       "      <th></th>\n",
       "      <th>시장명</th>\n",
       "      <th>최종주소</th>\n",
       "      <th>X</th>\n",
       "      <th>Y</th>\n",
       "      <th>store_num</th>\n",
       "      <th>Bus_st_num</th>\n",
       "      <th>Ur_rail_nu</th>\n",
       "      <th>Bus_te_num</th>\n",
       "      <th>spot_num_3</th>\n",
       "      <th>univ_num_1</th>\n",
       "      <th>ur_park_num</th>\n",
       "      <th>Cul_hall_n</th>\n",
       "      <th>Mart_num_1</th>\n",
       "      <th>parking_num</th>\n",
       "      <th>parking_car_num</th>\n",
       "      <th>stor_cnt</th>\n",
       "      <th>residnt_cnt_sum</th>\n",
       "      <th>mkt_cnt_sum</th>\n",
       "      <th>stor_cnt_sum</th>\n",
       "      <th>person_mkt_cnt</th>\n",
       "    </tr>\n",
       "  </thead>\n",
       "  <tbody>\n",
       "    <tr>\n",
       "      <th>0</th>\n",
       "      <td>(유)문경시중앙시장</td>\n",
       "      <td>경상북도 문경시 중앙로 87</td>\n",
       "      <td>128.197217</td>\n",
       "      <td>36.593648</td>\n",
       "      <td>38</td>\n",
       "      <td>22</td>\n",
       "      <td>0</td>\n",
       "      <td>0</td>\n",
       "      <td>0</td>\n",
       "      <td>0</td>\n",
       "      <td>0</td>\n",
       "      <td>1</td>\n",
       "      <td>1</td>\n",
       "      <td>10</td>\n",
       "      <td>951</td>\n",
       "      <td>40</td>\n",
       "      <td>71213</td>\n",
       "      <td>11</td>\n",
       "      <td>775</td>\n",
       "      <td>92</td>\n",
       "    </tr>\n",
       "    <tr>\n",
       "      <th>1</th>\n",
       "      <td>(주)서시장</td>\n",
       "      <td>전라남도 여수시 좌수영로 16-6</td>\n",
       "      <td>127.728612</td>\n",
       "      <td>34.741776</td>\n",
       "      <td>209</td>\n",
       "      <td>83</td>\n",
       "      <td>0</td>\n",
       "      <td>1</td>\n",
       "      <td>4</td>\n",
       "      <td>0</td>\n",
       "      <td>0</td>\n",
       "      <td>1</td>\n",
       "      <td>0</td>\n",
       "      <td>1</td>\n",
       "      <td>241</td>\n",
       "      <td>191</td>\n",
       "      <td>280549</td>\n",
       "      <td>30</td>\n",
       "      <td>3164</td>\n",
       "      <td>89</td>\n",
       "    </tr>\n",
       "    <tr>\n",
       "      <th>2</th>\n",
       "      <td>(주)신정시장</td>\n",
       "      <td>울산광역시 남구 월평로47번길 7</td>\n",
       "      <td>129.310298</td>\n",
       "      <td>35.542318</td>\n",
       "      <td>105</td>\n",
       "      <td>79</td>\n",
       "      <td>0</td>\n",
       "      <td>1</td>\n",
       "      <td>0</td>\n",
       "      <td>0</td>\n",
       "      <td>0</td>\n",
       "      <td>2</td>\n",
       "      <td>1</td>\n",
       "      <td>4</td>\n",
       "      <td>240</td>\n",
       "      <td>94</td>\n",
       "      <td>320716</td>\n",
       "      <td>18</td>\n",
       "      <td>2370</td>\n",
       "      <td>135</td>\n",
       "    </tr>\n",
       "    <tr>\n",
       "      <th>3</th>\n",
       "      <td>(주)야음시장</td>\n",
       "      <td>울산광역시 남구 야음동 815-22</td>\n",
       "      <td>129.331225</td>\n",
       "      <td>35.524098</td>\n",
       "      <td>90</td>\n",
       "      <td>82</td>\n",
       "      <td>0</td>\n",
       "      <td>2</td>\n",
       "      <td>0</td>\n",
       "      <td>0</td>\n",
       "      <td>0</td>\n",
       "      <td>1</td>\n",
       "      <td>1</td>\n",
       "      <td>1</td>\n",
       "      <td>103</td>\n",
       "      <td>85</td>\n",
       "      <td>320716</td>\n",
       "      <td>18</td>\n",
       "      <td>2370</td>\n",
       "      <td>135</td>\n",
       "    </tr>\n",
       "    <tr>\n",
       "      <th>4</th>\n",
       "      <td>(주)여수수산시장</td>\n",
       "      <td>전라남도 여수시 여객선터미널길 24</td>\n",
       "      <td>127.731736</td>\n",
       "      <td>34.738141</td>\n",
       "      <td>115</td>\n",
       "      <td>95</td>\n",
       "      <td>0</td>\n",
       "      <td>1</td>\n",
       "      <td>4</td>\n",
       "      <td>0</td>\n",
       "      <td>0</td>\n",
       "      <td>1</td>\n",
       "      <td>1</td>\n",
       "      <td>4</td>\n",
       "      <td>190</td>\n",
       "      <td>124</td>\n",
       "      <td>280549</td>\n",
       "      <td>30</td>\n",
       "      <td>3164</td>\n",
       "      <td>89</td>\n",
       "    </tr>\n",
       "  </tbody>\n",
       "</table>\n",
       "</div>"
      ],
      "text/plain": [
       "          시장명                 최종주소           X          Y  store_num  \\\n",
       "0  (유)문경시중앙시장      경상북도 문경시 중앙로 87  128.197217  36.593648         38   \n",
       "1      (주)서시장   전라남도 여수시 좌수영로 16-6  127.728612  34.741776        209   \n",
       "2     (주)신정시장   울산광역시 남구 월평로47번길 7  129.310298  35.542318        105   \n",
       "3     (주)야음시장  울산광역시 남구 야음동 815-22  129.331225  35.524098         90   \n",
       "4   (주)여수수산시장  전라남도 여수시 여객선터미널길 24  127.731736  34.738141        115   \n",
       "\n",
       "   Bus_st_num  Ur_rail_nu  Bus_te_num  spot_num_3  univ_num_1  ur_park_num  \\\n",
       "0          22           0           0           0           0            0   \n",
       "1          83           0           1           4           0            0   \n",
       "2          79           0           1           0           0            0   \n",
       "3          82           0           2           0           0            0   \n",
       "4          95           0           1           4           0            0   \n",
       "\n",
       "   Cul_hall_n  Mart_num_1  parking_num  parking_car_num  stor_cnt  \\\n",
       "0           1           1           10              951        40   \n",
       "1           1           0            1              241       191   \n",
       "2           2           1            4              240        94   \n",
       "3           1           1            1              103        85   \n",
       "4           1           1            4              190       124   \n",
       "\n",
       "   residnt_cnt_sum  mkt_cnt_sum  stor_cnt_sum  person_mkt_cnt  \n",
       "0            71213           11           775              92  \n",
       "1           280549           30          3164              89  \n",
       "2           320716           18          2370             135  \n",
       "3           320716           18          2370             135  \n",
       "4           280549           30          3164              89  "
      ]
     },
     "execution_count": 490,
     "metadata": {},
     "output_type": "execute_result"
    }
   ],
   "source": [
    "market_data = pd.read_csv(\"C:/최종모델용/traditional_mall.csv\", encoding = 'cp949')\n",
    "market_data.head()"
   ]
  },
  {
   "cell_type": "code",
   "execution_count": 491,
   "metadata": {},
   "outputs": [
    {
     "data": {
      "text/plain": [
       "(1262, 10)"
      ]
     },
     "execution_count": 491,
     "metadata": {},
     "output_type": "execute_result"
    }
   ],
   "source": [
    "#전통시장 데이터에서 같은 열 뽑기(=X_data2)\n",
    "X_data2 = market_data[['store_num', 'Bus_te_num', 'spot_num_3', 'ur_park_num', 'parking_num', 'Cul_hall_n',\n",
    "                  'Mart_num_1', 'parking_car_num', 'residnt_cnt_sum', 'person_mkt_cnt']]\n",
    "X_data2.shape"
   ]
  },
  {
   "cell_type": "markdown",
   "metadata": {},
   "source": [
    "###  "
   ]
  },
  {
   "cell_type": "code",
   "execution_count": 492,
   "metadata": {},
   "outputs": [],
   "source": [
    "#모델에 전통시장 대입\n",
    "pred2 = rfr.predict(X_data2)"
   ]
  },
  {
   "cell_type": "code",
   "execution_count": 493,
   "metadata": {},
   "outputs": [
    {
     "data": {
      "text/plain": [
       "array([38.30344334, 58.76810741, 28.04068432, ..., 39.36209745,\n",
       "       37.01777572, 27.11124089])"
      ]
     },
     "execution_count": 493,
     "metadata": {},
     "output_type": "execute_result"
    }
   ],
   "source": [
    "pred2"
   ]
  },
  {
   "cell_type": "code",
   "execution_count": 494,
   "metadata": {
    "scrolled": true
   },
   "outputs": [
    {
     "data": {
      "text/html": [
       "<div>\n",
       "<style scoped>\n",
       "    .dataframe tbody tr th:only-of-type {\n",
       "        vertical-align: middle;\n",
       "    }\n",
       "\n",
       "    .dataframe tbody tr th {\n",
       "        vertical-align: top;\n",
       "    }\n",
       "\n",
       "    .dataframe thead th {\n",
       "        text-align: right;\n",
       "    }\n",
       "</style>\n",
       "<table border=\"1\" class=\"dataframe\">\n",
       "  <thead>\n",
       "    <tr style=\"text-align: right;\">\n",
       "      <th></th>\n",
       "      <th>시장명</th>\n",
       "      <th>최종주소</th>\n",
       "      <th>X</th>\n",
       "      <th>Y</th>\n",
       "      <th>store_num</th>\n",
       "      <th>Bus_st_num</th>\n",
       "      <th>Ur_rail_nu</th>\n",
       "      <th>Bus_te_num</th>\n",
       "      <th>spot_num_3</th>\n",
       "      <th>univ_num_1</th>\n",
       "      <th>...</th>\n",
       "      <th>Cul_hall_n</th>\n",
       "      <th>Mart_num_1</th>\n",
       "      <th>parking_num</th>\n",
       "      <th>parking_car_num</th>\n",
       "      <th>stor_cnt</th>\n",
       "      <th>residnt_cnt_sum</th>\n",
       "      <th>mkt_cnt_sum</th>\n",
       "      <th>stor_cnt_sum</th>\n",
       "      <th>person_mkt_cnt</th>\n",
       "      <th>매출액</th>\n",
       "    </tr>\n",
       "  </thead>\n",
       "  <tbody>\n",
       "    <tr>\n",
       "      <th>0</th>\n",
       "      <td>(유)문경시중앙시장</td>\n",
       "      <td>경상북도 문경시 중앙로 87</td>\n",
       "      <td>128.197217</td>\n",
       "      <td>36.593648</td>\n",
       "      <td>38</td>\n",
       "      <td>22</td>\n",
       "      <td>0</td>\n",
       "      <td>0</td>\n",
       "      <td>0</td>\n",
       "      <td>0</td>\n",
       "      <td>...</td>\n",
       "      <td>1</td>\n",
       "      <td>1</td>\n",
       "      <td>10</td>\n",
       "      <td>951</td>\n",
       "      <td>40</td>\n",
       "      <td>71213</td>\n",
       "      <td>11</td>\n",
       "      <td>775</td>\n",
       "      <td>92</td>\n",
       "      <td>38.303443</td>\n",
       "    </tr>\n",
       "    <tr>\n",
       "      <th>1</th>\n",
       "      <td>(주)서시장</td>\n",
       "      <td>전라남도 여수시 좌수영로 16-6</td>\n",
       "      <td>127.728612</td>\n",
       "      <td>34.741776</td>\n",
       "      <td>209</td>\n",
       "      <td>83</td>\n",
       "      <td>0</td>\n",
       "      <td>1</td>\n",
       "      <td>4</td>\n",
       "      <td>0</td>\n",
       "      <td>...</td>\n",
       "      <td>1</td>\n",
       "      <td>0</td>\n",
       "      <td>1</td>\n",
       "      <td>241</td>\n",
       "      <td>191</td>\n",
       "      <td>280549</td>\n",
       "      <td>30</td>\n",
       "      <td>3164</td>\n",
       "      <td>89</td>\n",
       "      <td>58.768107</td>\n",
       "    </tr>\n",
       "    <tr>\n",
       "      <th>2</th>\n",
       "      <td>(주)신정시장</td>\n",
       "      <td>울산광역시 남구 월평로47번길 7</td>\n",
       "      <td>129.310298</td>\n",
       "      <td>35.542318</td>\n",
       "      <td>105</td>\n",
       "      <td>79</td>\n",
       "      <td>0</td>\n",
       "      <td>1</td>\n",
       "      <td>0</td>\n",
       "      <td>0</td>\n",
       "      <td>...</td>\n",
       "      <td>2</td>\n",
       "      <td>1</td>\n",
       "      <td>4</td>\n",
       "      <td>240</td>\n",
       "      <td>94</td>\n",
       "      <td>320716</td>\n",
       "      <td>18</td>\n",
       "      <td>2370</td>\n",
       "      <td>135</td>\n",
       "      <td>28.040684</td>\n",
       "    </tr>\n",
       "    <tr>\n",
       "      <th>3</th>\n",
       "      <td>(주)야음시장</td>\n",
       "      <td>울산광역시 남구 야음동 815-22</td>\n",
       "      <td>129.331225</td>\n",
       "      <td>35.524098</td>\n",
       "      <td>90</td>\n",
       "      <td>82</td>\n",
       "      <td>0</td>\n",
       "      <td>2</td>\n",
       "      <td>0</td>\n",
       "      <td>0</td>\n",
       "      <td>...</td>\n",
       "      <td>1</td>\n",
       "      <td>1</td>\n",
       "      <td>1</td>\n",
       "      <td>103</td>\n",
       "      <td>85</td>\n",
       "      <td>320716</td>\n",
       "      <td>18</td>\n",
       "      <td>2370</td>\n",
       "      <td>135</td>\n",
       "      <td>40.114035</td>\n",
       "    </tr>\n",
       "    <tr>\n",
       "      <th>4</th>\n",
       "      <td>(주)여수수산시장</td>\n",
       "      <td>전라남도 여수시 여객선터미널길 24</td>\n",
       "      <td>127.731736</td>\n",
       "      <td>34.738141</td>\n",
       "      <td>115</td>\n",
       "      <td>95</td>\n",
       "      <td>0</td>\n",
       "      <td>1</td>\n",
       "      <td>4</td>\n",
       "      <td>0</td>\n",
       "      <td>...</td>\n",
       "      <td>1</td>\n",
       "      <td>1</td>\n",
       "      <td>4</td>\n",
       "      <td>190</td>\n",
       "      <td>124</td>\n",
       "      <td>280549</td>\n",
       "      <td>30</td>\n",
       "      <td>3164</td>\n",
       "      <td>89</td>\n",
       "      <td>50.903187</td>\n",
       "    </tr>\n",
       "  </tbody>\n",
       "</table>\n",
       "<p>5 rows × 21 columns</p>\n",
       "</div>"
      ],
      "text/plain": [
       "          시장명                 최종주소           X          Y  store_num  \\\n",
       "0  (유)문경시중앙시장      경상북도 문경시 중앙로 87  128.197217  36.593648         38   \n",
       "1      (주)서시장   전라남도 여수시 좌수영로 16-6  127.728612  34.741776        209   \n",
       "2     (주)신정시장   울산광역시 남구 월평로47번길 7  129.310298  35.542318        105   \n",
       "3     (주)야음시장  울산광역시 남구 야음동 815-22  129.331225  35.524098         90   \n",
       "4   (주)여수수산시장  전라남도 여수시 여객선터미널길 24  127.731736  34.738141        115   \n",
       "\n",
       "   Bus_st_num  Ur_rail_nu  Bus_te_num  spot_num_3  univ_num_1  ...  \\\n",
       "0          22           0           0           0           0  ...   \n",
       "1          83           0           1           4           0  ...   \n",
       "2          79           0           1           0           0  ...   \n",
       "3          82           0           2           0           0  ...   \n",
       "4          95           0           1           4           0  ...   \n",
       "\n",
       "   Cul_hall_n  Mart_num_1  parking_num  parking_car_num  stor_cnt  \\\n",
       "0           1           1           10              951        40   \n",
       "1           1           0            1              241       191   \n",
       "2           2           1            4              240        94   \n",
       "3           1           1            1              103        85   \n",
       "4           1           1            4              190       124   \n",
       "\n",
       "   residnt_cnt_sum  mkt_cnt_sum  stor_cnt_sum  person_mkt_cnt        매출액  \n",
       "0            71213           11           775              92  38.303443  \n",
       "1           280549           30          3164              89  58.768107  \n",
       "2           320716           18          2370             135  28.040684  \n",
       "3           320716           18          2370             135  40.114035  \n",
       "4           280549           30          3164              89  50.903187  \n",
       "\n",
       "[5 rows x 21 columns]"
      ]
     },
     "execution_count": 494,
     "metadata": {},
     "output_type": "execute_result"
    }
   ],
   "source": [
    "#기존 전통시장 데이터에 매출액 열추가\n",
    "market_data['매출액'] = pred2\n",
    "market_data.head()"
   ]
  },
  {
   "cell_type": "code",
   "execution_count": 495,
   "metadata": {
    "scrolled": true
   },
   "outputs": [
    {
     "name": "stdout",
     "output_type": "stream",
     "text": [
      "23.13303655769999\n",
      "93.56757478709999\n"
     ]
    },
    {
     "data": {
      "text/plain": [
       "[<matplotlib.lines.Line2D at 0x2e153ef7048>]"
      ]
     },
     "execution_count": 495,
     "metadata": {},
     "output_type": "execute_result"
    },
    {
     "data": {
      "image/png": "[encoded data removed]",
      "text/plain": [
       "<Figure size 432x288 with 1 Axes>"
      ]
     },
     "metadata": {
      "needs_background": "light"
     },
     "output_type": "display_data"
    }
   ],
   "source": [
    "print(min(pred2))\n",
    "print(max(pred2))\n",
    "plt.plot(pred2)"
   ]
  },
  {
   "cell_type": "code",
   "execution_count": 496,
   "metadata": {},
   "outputs": [
    {
     "data": {
      "text/plain": [
       "(array([201., 216., 357., 142., 141., 138.,  38.,  16.,  10.,   3.]),\n",
       " array([23.13303656, 30.17649038, 37.2199442 , 44.26339803, 51.30685185,\n",
       "        58.35030567, 65.3937595 , 72.43721332, 79.48066714, 86.52412096,\n",
       "        93.56757479]),\n",
       " <a list of 10 Patch objects>)"
      ]
     },
     "execution_count": 496,
     "metadata": {},
     "output_type": "execute_result"
    },
    {
     "data": {
      "image/png": "[encoded data removed]",
      "text/plain": [
       "<Figure size 432x288 with 1 Axes>"
      ]
     },
     "metadata": {
      "needs_background": "light"
     },
     "output_type": "display_data"
    }
   ],
   "source": [
    "plt.hist(pred2)"
   ]
  },
  {
   "cell_type": "markdown",
   "metadata": {},
   "source": [
    "####  "
   ]
  },
  {
   "cell_type": "markdown",
   "metadata": {},
   "source": [
    "### 최종 예측모델 저장"
   ]
  },
  {
   "cell_type": "code",
   "execution_count": 497,
   "metadata": {},
   "outputs": [],
   "source": [
    "market_data.to_csv('C:/최종모델용/new1.csv',index=False)"
   ]
  },
  {
   "cell_type": "markdown",
   "metadata": {},
   "source": [
    "###  "
   ]
  }
 ],
 "metadata": {
  "kernelspec": {
   "display_name": "Python 3",
   "language": "python",
   "name": "python3"
  },
  "language_info": {
   "codemirror_mode": {
    "name": "ipython",
    "version": 3
   },
   "file_extension": ".py",
   "mimetype": "text/x-python",
   "name": "python",
   "nbconvert_exporter": "python",
   "pygments_lexer": "ipython3",
   "version": "3.7.6"
  }
 },
 "nbformat": 4,
 "nbformat_minor": 5
}
